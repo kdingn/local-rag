{
 "cells": [
  {
   "cell_type": "markdown",
   "metadata": {},
   "source": [
    "# test1"
   ]
  },
  {
   "cell_type": "code",
   "execution_count": 7,
   "metadata": {},
   "outputs": [],
   "source": [
    "from langchain_community.document_loaders import UnstructuredMarkdownLoader\n",
    "from langchain_core.documents import Document"
   ]
  },
  {
   "cell_type": "code",
   "execution_count": 21,
   "metadata": {},
   "outputs": [],
   "source": [
    "markdown_path = \"../data/documents/file.md\"\n",
    "loader = UnstructuredMarkdownLoader(markdown_path)\n",
    "data = loader.load()"
   ]
  },
  {
   "cell_type": "code",
   "execution_count": 22,
   "metadata": {},
   "outputs": [],
   "source": [
    "# assert len(data) == 2\n",
    "assert len(data) == 1\n",
    "assert isinstance(data[0], Document)"
   ]
  },
  {
   "cell_type": "code",
   "execution_count": 23,
   "metadata": {},
   "outputs": [
    {
     "name": "stdout",
     "output_type": "stream",
     "text": [
      "2024 年抱負の振り返りと見直し\n",
      "\n",
      "振り返り\n",
      "\n",
      "目標について\n",
      "\n",
      "Lifework/生きがい を見つける！\n",
      "\n",
      "これはなんか考え方がちょっと変わった気がする\n",
      "\n",
      "これを書いた時はなんか焦りがあったけど最近\n"
     ]
    }
   ],
   "source": [
    "content = data[0].page_content\n",
    "print(content[:100])"
   ]
  },
  {
   "cell_type": "code",
   "execution_count": 24,
   "metadata": {},
   "outputs": [],
   "source": [
    "from langchain.text_splitter import CharacterTextSplitter\n",
    "\n",
    "text_splitter = CharacterTextSplitter(chunk_size=1000, chunk_overlap=200)\n",
    "chunks = text_splitter.split_text(content)"
   ]
  },
  {
   "cell_type": "markdown",
   "metadata": {},
   "source": [
    "# test2"
   ]
  },
  {
   "cell_type": "code",
   "execution_count": 60,
   "metadata": {},
   "outputs": [],
   "source": [
    "import re\n",
    "\n",
    "def clean_obsidian_markdown(text):\n",
    "    text = re.sub(r'\\[\\[(.*?)\\]\\]', r'[\\1](\\1.md)', text)\n",
    "    text = re.sub(r'\\n-', r'\\n\\n-', text)\n",
    "    text = re.sub(r'\\!\\[\\[(.*?)\\]\\]', r'![\\1](\\1)', text)\n",
    "    text = re.sub(r' +', ' ', text)\n",
    "    text = re.sub(r'^ +| +$', '', text, flags=re.MULTILINE)\n",
    "    text = re.sub(r'\\n{3,}', '\\n\\n', text)    \n",
    "    text = text.replace(\"> [!Memo]\", \"\")    \n",
    "    return text"
   ]
  },
  {
   "cell_type": "code",
   "execution_count": 61,
   "metadata": {},
   "outputs": [],
   "source": [
    "from langchain.document_loaders import TextLoader\n",
    "\n",
    "markdown_path = \"../data/documents/file.md\"\n",
    "loader = TextLoader(markdown_path)\n",
    "data = loader.load()\n",
    "markdown_content = clean_obsidian_markdown(data[0].page_content)"
   ]
  },
  {
   "cell_type": "code",
   "execution_count": 62,
   "metadata": {},
   "outputs": [
    {
     "data": {
      "text/plain": [
       "'# 2024 年抱負の振り返りと見直し\\n\\n## 振り返り\\n\\n- 目標について\\n- Lifework/生きがい を見つける！\\n- これはなんか考え方がちょっと変わった気がする\\n- これを書いた時はなんか焦りがあったけど最近はまあ人生そんなもんよなフェーズに入ってきてる\\n- 自分だけは自分の人生をあきらめないのは大事っていうのはもちろんある\\n- [十二人の怒れる男](十二人の怒れる男.md)のおじいさんが誇れるものがない自身の人生を輝かせるために真実と信じて勘違いを証言した，とあったがそうならないようにもしないとな，とも\\n- ただ楽しみはあったほうがいいので常に面白そうなものは探そう，でできれば生きがいになりそうな柱になればいいな\\n\\n- 音楽活動について\\n- 1 曲 / 1 週で何かを制作する\\n- これは全くやってないな\\n- 1~3 月は[2024年DTM計画](2024年DTM計画.md)で月 1 曲コピーしてたけどコストが高い\\n- 1 曲っていう名称が良くないな，1 音楽メモ / 1 週 とかなら習慣化できそう\\n- 他人が見れる形でアップロードする\\n- これも全くやってないな，音楽に限らなくてもいいけどこれはやったほうがいい\\n- 単純に趣味アカつくるだけでもいい\\n\\n- 彼女作りについて ← そもそも彼女作りがメインではなくて誇れる自分作りが重要そう\\n- 鍛える\\n- やってないけどやったほうがいい\\n- 水泳を定期的に行う\\n- 冬春はやってたけど夏になって外出んくなってきてるの改善したいところ\\n- 体重計を買う\\n- 買ったけど乗ってないうちに体重ばか増えててワロタ\\n- 脱毛\\n- んー行きたいけどそこまで優先度たかくないか\\n- 親知らずを抜く（？）\\n- 抜いてないですがまあ抜かなくてもいいかもしれません\\n- pairs をしっかり始める，有料プランに入って必ず見る\\n- やーってないしまあいいかという気もする\\n- 知り合った人は必ず連絡先交換できるようにする\\n- 新しく知り合った人がいないですね，はい\\n- それ自体をなんらか改善したほうがよいような気もしてきた\\n- 相手に寛容な精神を身に着ける\\n- これもなにもしてないけどなんか本読んでもいいなともふと思った\\n- たしかこれ書いたのが[2023-11-17](2023-11-17.md)の研修の内容踏まえてやったかな，大事\\n\\n- アウトドア生活について\\n- 外に出てコーヒー or チャイをつくる\\n- 外ではやってないけどまあ無理にすることでもないかと思う\\n- 登山した山の上でキャンプする 2024 夏\\n- キャンプはしてないけど[2024-06-29](2024-06-29.md)に那須岳に登ったので OK かな\\n\\n- その他\\n- 転職能力身に着ける\\n- Vue, Nuxt, React, Next は一通り書けるようになったかな\\n- 転職する気は全くないけど社会的に求められてる能力は身に着けたいので今後も続けよう\\n- 猫飼う\\n- 何も動いてないけど本質じゃない気もするのでいったんパスで\\n- その他\\n- シーシャ\\n- 個人シーシャはいったんなしでいいかな，最近は線香にもはまっててこっちでいい気がする\\n- チャイ\\n- [チャイ研究](チャイ研究.md)はある程度進めれたけど機会もないとそうそうやらんかな～楽しかったので OK\\n- こーすけばーちゃん家\\n- こーすけのばーちゃんはまだそうそう死なんらしい，ええことや\\n- 写真\\n- カメラは買ってもいいなと最近も思ってた，考えよう\\n- TRPG\\n- マダミスの[狂気山脈シリーズ](狂気山脈シリーズ.md)をプレイした，友人とやるのたーのしかったね\\n\\n## 感想\\n\\n- 振り返り自体が良かった\\n- 当時の考え方と今の考え方の違いを知れた\\n- 意図せず達成していたものもあった\\n- 計画の立て方とそれに対する評価をするときの観点もブラッシュアップされた気がする\\n- 計画を立てるときはやらねばという義務感もあって立てる\\n- 評価時はまあまあ落ち着きなさいよ，あなたは無理してる子供のようにも見えるよと感じた\\n- けどこれによってちょっとストレッチする目標を立てて評価することでちょっとずつ成長できるような気がしてよかった\\n- なんか生きること自体が仕事みたいになってきてるな\\n- この報酬は生きている間に出るセロトニンなのか\\n- それすらも超えていくとなんかあるんかな\\n\\n- 大項目をもう少し変更してもいいかもね\\n- 目標の Lifework / 生きがいを見つけるはもう少しブラッシュアップが必要\\n- 今思っているのは自分の影響で（自分含め）周囲が少しでも幸せになると嬉しい\\n- ちょっと胡散臭いけどそう思うのだからそういう遺伝子を持っていると自分を信じよう\\n- これ自体がなんかの脚本になるかもな\\n- 人はみな遺伝子をもっていてあるしきい値を超えたときにヒーローとして顕現する\\n- ← 実はこれはそういう生存本能の遺伝子\\n- ↑ を達成するためには\\n- 周りの人にどうやって幸せを振りまいていくか検討\\n- 方法と対象も考える\\n- あんまり不特定多数ではなく自分がいいと直感的に思った人だけでいいと思う\\n- ボランティア活動とかもいいね\\n- 単純にちょっと快楽を感じられるだけかもしらんけどゲーム，音楽，etc...を作ってる人たちもそう感じてるんかもしらんね\\n- できれば自分と同じような人たちを幸せにしてあげられるものを作りたいな\\n- 自身が継続的に幸せを享受できる「生きがい」を見つける\\n- 誇れる自分作りにより自分で自分を承認する\\n- 継続的に無条件に承認されるために彼女をつくるってのも一つの手ではある ← ただこれは相手を縛り続けることになるので微妙，むしろそれをわかっていて続ける甲斐性はない\\n- 音楽活動などにより他人から承認される\\n- 幸せにしてあげるって ↑ に書いたけどそもそもそんな偉そうなはなしではなく他人からの承認っていう意味あいも多分つよい\\n\\n## 2024 年下期抱負 / 目標\\n\\n スローガン / みんな幸せ笑顔が HAPPY\\n\\n- 音楽\\n- 1 週間に 1 回\\n- irish の曲練習\\n- なんかちょっとだけ dtm\\n- 耳コピ\\n- 趣味アカつくって投稿\\n- 稚拙でいい\\n\\n- お絵描き\\n- 環境をととのえる\\n- 液タブなどの機材購入 or 画材などを用意する\\n- ソラノヲトの二次創作とかもおもしろいかも\\n- 多分好きなのはソラノヲトの感じやけど絵は[吉成曜](吉成曜.md)さんかもなぁ\\n- 他にもどんな絵が好きなのかちゃんと考えたほうがよさそうやね\\n- 最近はアメコミじゃないけどああいう絵もすきやけど水彩画とかも捨てがたい\\n\\n- ヘルスケア\\n- 最近興味あるの\\n- ヨガ\\n- b-flow?\\n- 筋トレ\\n- 頑張ってつづけたいもの\\n- 水泳\\n- ジョギング\\n- 脱毛はマジで検討しよう\\n- 人間ドックも\\n\\n- 技術活動\\n- ちょっと真剣に kaggle\\n- ちょっと真剣に医療画像系分析\\n- 転職能力系\\n\\n- ゲーム制作系\\n- unreal engine 使えるようになってなんかつくってみる\\n\\n- その他\\n- 秋もどこかの山に登る\\n- 自分で散髪\\n- 車考える\\n- ゲール語など\\n- キャラクターデザインなど\\n- 設定考証など\\n'"
      ]
     },
     "execution_count": 62,
     "metadata": {},
     "output_type": "execute_result"
    }
   ],
   "source": [
    "markdown_content"
   ]
  },
  {
   "cell_type": "code",
   "execution_count": 63,
   "metadata": {},
   "outputs": [],
   "source": [
    "from langchain.text_splitter import MarkdownHeaderTextSplitter\n",
    "\n",
    "headers_to_split_on = [\n",
    "    (\"#\", \"Header 1\"),\n",
    "    (\"##\", \"Header 2\"),\n",
    "    (\"###\", \"Header 3\"),\n",
    "]\n",
    "\n",
    "markdown_splitter = MarkdownHeaderTextSplitter(headers_to_split_on, strip_headers=False)\n",
    "md_header_splits = markdown_splitter.split_text(markdown_content)"
   ]
  },
  {
   "cell_type": "code",
   "execution_count": 64,
   "metadata": {},
   "outputs": [
    {
     "data": {
      "text/plain": [
       "[Document(metadata={'Header 1': '2024 年抱負の振り返りと見直し', 'Header 2': '振り返り'}, page_content='# 2024 年抱負の振り返りと見直し  \\n## 振り返り  \\n- 目標について\\n- Lifework/生きがい を見つける！\\n- これはなんか考え方がちょっと変わった気がする\\n- これを書いた時はなんか焦りがあったけど最近はまあ人生そんなもんよなフェーズに入ってきてる\\n- 自分だけは自分の人生をあきらめないのは大事っていうのはもちろんある\\n- [十二人の怒れる男](十二人の怒れる男.md)のおじいさんが誇れるものがない自身の人生を輝かせるために真実と信じて勘違いを証言した，とあったがそうならないようにもしないとな，とも\\n- ただ楽しみはあったほうがいいので常に面白そうなものは探そう，でできれば生きがいになりそうな柱になればいいな  \\n- 音楽活動について\\n- 1 曲 / 1 週で何かを制作する\\n- これは全くやってないな\\n- 1~3 月は[2024年DTM計画](2024年DTM計画.md)で月 1 曲コピーしてたけどコストが高い\\n- 1 曲っていう名称が良くないな，1 音楽メモ / 1 週 とかなら習慣化できそう\\n- 他人が見れる形でアップロードする\\n- これも全くやってないな，音楽に限らなくてもいいけどこれはやったほうがいい\\n- 単純に趣味アカつくるだけでもいい  \\n- 彼女作りについて ← そもそも彼女作りがメインではなくて誇れる自分作りが重要そう\\n- 鍛える\\n- やってないけどやったほうがいい\\n- 水泳を定期的に行う\\n- 冬春はやってたけど夏になって外出んくなってきてるの改善したいところ\\n- 体重計を買う\\n- 買ったけど乗ってないうちに体重ばか増えててワロタ\\n- 脱毛\\n- んー行きたいけどそこまで優先度たかくないか\\n- 親知らずを抜く（？）\\n- 抜いてないですがまあ抜かなくてもいいかもしれません\\n- pairs をしっかり始める，有料プランに入って必ず見る\\n- やーってないしまあいいかという気もする\\n- 知り合った人は必ず連絡先交換できるようにする\\n- 新しく知り合った人がいないですね，はい\\n- それ自体をなんらか改善したほうがよいような気もしてきた\\n- 相手に寛容な精神を身に着ける\\n- これもなにもしてないけどなんか本読んでもいいなともふと思った\\n- たしかこれ書いたのが[2023-11-17](2023-11-17.md)の研修の内容踏まえてやったかな，大事  \\n- アウトドア生活について\\n- 外に出てコーヒー or チャイをつくる\\n- 外ではやってないけどまあ無理にすることでもないかと思う\\n- 登山した山の上でキャンプする 2024 夏\\n- キャンプはしてないけど[2024-06-29](2024-06-29.md)に那須岳に登ったので OK かな  \\n- その他\\n- 転職能力身に着ける\\n- Vue, Nuxt, React, Next は一通り書けるようになったかな\\n- 転職する気は全くないけど社会的に求められてる能力は身に着けたいので今後も続けよう\\n- 猫飼う\\n- 何も動いてないけど本質じゃない気もするのでいったんパスで\\n- その他\\n- シーシャ\\n- 個人シーシャはいったんなしでいいかな，最近は線香にもはまっててこっちでいい気がする\\n- チャイ\\n- [チャイ研究](チャイ研究.md)はある程度進めれたけど機会もないとそうそうやらんかな～楽しかったので OK\\n- こーすけばーちゃん家\\n- こーすけのばーちゃんはまだそうそう死なんらしい，ええことや\\n- 写真\\n- カメラは買ってもいいなと最近も思ってた，考えよう\\n- TRPG\\n- マダミスの[狂気山脈シリーズ](狂気山脈シリーズ.md)をプレイした，友人とやるのたーのしかったね'),\n",
       " Document(metadata={'Header 1': '2024 年抱負の振り返りと見直し', 'Header 2': '感想'}, page_content='## 感想  \\n- 振り返り自体が良かった\\n- 当時の考え方と今の考え方の違いを知れた\\n- 意図せず達成していたものもあった\\n- 計画の立て方とそれに対する評価をするときの観点もブラッシュアップされた気がする\\n- 計画を立てるときはやらねばという義務感もあって立てる\\n- 評価時はまあまあ落ち着きなさいよ，あなたは無理してる子供のようにも見えるよと感じた\\n- けどこれによってちょっとストレッチする目標を立てて評価することでちょっとずつ成長できるような気がしてよかった\\n- なんか生きること自体が仕事みたいになってきてるな\\n- この報酬は生きている間に出るセロトニンなのか\\n- それすらも超えていくとなんかあるんかな  \\n- 大項目をもう少し変更してもいいかもね\\n- 目標の Lifework / 生きがいを見つけるはもう少しブラッシュアップが必要\\n- 今思っているのは自分の影響で（自分含め）周囲が少しでも幸せになると嬉しい\\n- ちょっと胡散臭いけどそう思うのだからそういう遺伝子を持っていると自分を信じよう\\n- これ自体がなんかの脚本になるかもな\\n- 人はみな遺伝子をもっていてあるしきい値を超えたときにヒーローとして顕現する\\n- ← 実はこれはそういう生存本能の遺伝子\\n- ↑ を達成するためには\\n- 周りの人にどうやって幸せを振りまいていくか検討\\n- 方法と対象も考える\\n- あんまり不特定多数ではなく自分がいいと直感的に思った人だけでいいと思う\\n- ボランティア活動とかもいいね\\n- 単純にちょっと快楽を感じられるだけかもしらんけどゲーム，音楽，etc...を作ってる人たちもそう感じてるんかもしらんね\\n- できれば自分と同じような人たちを幸せにしてあげられるものを作りたいな\\n- 自身が継続的に幸せを享受できる「生きがい」を見つける\\n- 誇れる自分作りにより自分で自分を承認する\\n- 継続的に無条件に承認されるために彼女をつくるってのも一つの手ではある ← ただこれは相手を縛り続けることになるので微妙，むしろそれをわかっていて続ける甲斐性はない\\n- 音楽活動などにより他人から承認される\\n- 幸せにしてあげるって ↑ に書いたけどそもそもそんな偉そうなはなしではなく他人からの承認っていう意味あいも多分つよい'),\n",
       " Document(metadata={'Header 1': '2024 年抱負の振り返りと見直し', 'Header 2': '2024 年下期抱負 / 目標'}, page_content='## 2024 年下期抱負 / 目標  \\nスローガン / みんな幸せ笑顔が HAPPY  \\n- 音楽\\n- 1 週間に 1 回\\n- irish の曲練習\\n- なんかちょっとだけ dtm\\n- 耳コピ\\n- 趣味アカつくって投稿\\n- 稚拙でいい  \\n- お絵描き\\n- 環境をととのえる\\n- 液タブなどの機材購入 or 画材などを用意する\\n- ソラノヲトの二次創作とかもおもしろいかも\\n- 多分好きなのはソラノヲトの感じやけど絵は[吉成曜](吉成曜.md)さんかもなぁ\\n- 他にもどんな絵が好きなのかちゃんと考えたほうがよさそうやね\\n- 最近はアメコミじゃないけどああいう絵もすきやけど水彩画とかも捨てがたい  \\n- ヘルスケア\\n- 最近興味あるの\\n- ヨガ\\n- b-flow?\\n- 筋トレ\\n- 頑張ってつづけたいもの\\n- 水泳\\n- ジョギング\\n- 脱毛はマジで検討しよう\\n- 人間ドックも  \\n- 技術活動\\n- ちょっと真剣に kaggle\\n- ちょっと真剣に医療画像系分析\\n- 転職能力系  \\n- ゲーム制作系\\n- unreal engine 使えるようになってなんかつくってみる  \\n- その他\\n- 秋もどこかの山に登る\\n- 自分で散髪\\n- 車考える\\n- ゲール語など\\n- キャラクターデザインなど\\n- 設定考証など')]"
      ]
     },
     "execution_count": 64,
     "metadata": {},
     "output_type": "execute_result"
    }
   ],
   "source": [
    "md_header_splits"
   ]
  },
  {
   "cell_type": "code",
   "execution_count": 67,
   "metadata": {},
   "outputs": [],
   "source": [
    "from langchain_community.embeddings.sentence_transformer import SentenceTransformerEmbeddings\n",
    "# 多言語対応の埋め込みモデルの設定\n",
    "embedding_model_name = \"intfloat/multilingual-e5-base\"\n",
    "embedding_model = SentenceTransformerEmbeddings(model_name=embedding_model_name)"
   ]
  },
  {
   "cell_type": "code",
   "execution_count": 1,
   "metadata": {},
   "outputs": [
    {
     "ename": "ValueError",
     "evalue": "\u001b[91mYou are using a deprecated configuration of Chroma.\n\n\u001b[94mIf you do not have data you wish to migrate, you only need to change how you construct\nyour Chroma client. Please see the \"New Clients\" section of https://docs.trychroma.com/deployment/migration.\n________________________________________________________________________________________________\n\nIf you do have data you wish to migrate, we have a migration tool you can use in order to\nmigrate your data to the new Chroma architecture.\nPlease `pip install chroma-migrate` and run `chroma-migrate` to migrate your data and then\nchange how you construct your Chroma client.\n\nSee https://docs.trychroma.com/deployment/migration for more information or join our discord at https://discord.gg/8g5FESbj for help!\u001b[0m",
     "output_type": "error",
     "traceback": [
      "\u001b[0;31m---------------------------------------------------------------------------\u001b[0m",
      "\u001b[0;31mValueError\u001b[0m                                Traceback (most recent call last)",
      "Cell \u001b[0;32mIn[1], line 5\u001b[0m\n\u001b[1;32m      2\u001b[0m \u001b[38;5;28;01mfrom\u001b[39;00m \u001b[38;5;21;01mchromadb\u001b[39;00m\u001b[38;5;21;01m.\u001b[39;00m\u001b[38;5;21;01mconfig\u001b[39;00m \u001b[38;5;28;01mimport\u001b[39;00m Settings\n\u001b[1;32m      4\u001b[0m \u001b[38;5;66;03m# ChromaDBの初期化\u001b[39;00m\n\u001b[0;32m----> 5\u001b[0m client \u001b[38;5;241m=\u001b[39m \u001b[43mchromadb\u001b[49m\u001b[38;5;241;43m.\u001b[39;49m\u001b[43mClient\u001b[49m\u001b[43m(\u001b[49m\u001b[43mSettings\u001b[49m\u001b[43m(\u001b[49m\n\u001b[1;32m      6\u001b[0m \u001b[43m    \u001b[49m\u001b[43mchroma_db_impl\u001b[49m\u001b[38;5;241;43m=\u001b[39;49m\u001b[38;5;124;43m\"\u001b[39;49m\u001b[38;5;124;43mduckdb+parquet\u001b[39;49m\u001b[38;5;124;43m\"\u001b[39;49m\u001b[43m,\u001b[49m\n\u001b[1;32m      7\u001b[0m \u001b[43m    \u001b[49m\u001b[43mpersist_directory\u001b[49m\u001b[38;5;241;43m=\u001b[39;49m\u001b[38;5;124;43m\"\u001b[39;49m\u001b[38;5;124;43m../data/chroma_db\u001b[39;49m\u001b[38;5;124;43m\"\u001b[39;49m\n\u001b[1;32m      8\u001b[0m \u001b[43m)\u001b[49m\u001b[43m)\u001b[49m\n",
      "File \u001b[0;32m~/Desktop/local-rag/.venv/lib/python3.11/site-packages/chromadb/__init__.py:334\u001b[0m, in \u001b[0;36mClient\u001b[0;34m(settings, tenant, database)\u001b[0m\n\u001b[1;32m    331\u001b[0m tenant \u001b[38;5;241m=\u001b[39m \u001b[38;5;28mstr\u001b[39m(tenant)\n\u001b[1;32m    332\u001b[0m database \u001b[38;5;241m=\u001b[39m \u001b[38;5;28mstr\u001b[39m(database)\n\u001b[0;32m--> 334\u001b[0m \u001b[38;5;28;01mreturn\u001b[39;00m \u001b[43mClientCreator\u001b[49m\u001b[43m(\u001b[49m\u001b[43mtenant\u001b[49m\u001b[38;5;241;43m=\u001b[39;49m\u001b[43mtenant\u001b[49m\u001b[43m,\u001b[49m\u001b[43m \u001b[49m\u001b[43mdatabase\u001b[49m\u001b[38;5;241;43m=\u001b[39;49m\u001b[43mdatabase\u001b[49m\u001b[43m,\u001b[49m\u001b[43m \u001b[49m\u001b[43msettings\u001b[49m\u001b[38;5;241;43m=\u001b[39;49m\u001b[43msettings\u001b[49m\u001b[43m)\u001b[49m\n",
      "File \u001b[0;32m~/Desktop/local-rag/.venv/lib/python3.11/site-packages/chromadb/api/client.py:58\u001b[0m, in \u001b[0;36mClient.__init__\u001b[0;34m(self, tenant, database, settings)\u001b[0m\n\u001b[1;32m     52\u001b[0m \u001b[38;5;28;01mdef\u001b[39;00m \u001b[38;5;21m__init__\u001b[39m(\n\u001b[1;32m     53\u001b[0m     \u001b[38;5;28mself\u001b[39m,\n\u001b[1;32m     54\u001b[0m     tenant: \u001b[38;5;28mstr\u001b[39m \u001b[38;5;241m=\u001b[39m DEFAULT_TENANT,\n\u001b[1;32m     55\u001b[0m     database: \u001b[38;5;28mstr\u001b[39m \u001b[38;5;241m=\u001b[39m DEFAULT_DATABASE,\n\u001b[1;32m     56\u001b[0m     settings: Settings \u001b[38;5;241m=\u001b[39m Settings(),\n\u001b[1;32m     57\u001b[0m ) \u001b[38;5;241m-\u001b[39m\u001b[38;5;241m>\u001b[39m \u001b[38;5;28;01mNone\u001b[39;00m:\n\u001b[0;32m---> 58\u001b[0m     \u001b[38;5;28;43msuper\u001b[39;49m\u001b[43m(\u001b[49m\u001b[43m)\u001b[49m\u001b[38;5;241;43m.\u001b[39;49m\u001b[38;5;21;43m__init__\u001b[39;49m\u001b[43m(\u001b[49m\u001b[43msettings\u001b[49m\u001b[38;5;241;43m=\u001b[39;49m\u001b[43msettings\u001b[49m\u001b[43m)\u001b[49m\n\u001b[1;32m     59\u001b[0m     \u001b[38;5;28mself\u001b[39m\u001b[38;5;241m.\u001b[39mtenant \u001b[38;5;241m=\u001b[39m tenant\n\u001b[1;32m     60\u001b[0m     \u001b[38;5;28mself\u001b[39m\u001b[38;5;241m.\u001b[39mdatabase \u001b[38;5;241m=\u001b[39m database\n",
      "File \u001b[0;32m~/Desktop/local-rag/.venv/lib/python3.11/site-packages/chromadb/api/shared_system_client.py:19\u001b[0m, in \u001b[0;36mSharedSystemClient.__init__\u001b[0;34m(self, settings)\u001b[0m\n\u001b[1;32m     14\u001b[0m \u001b[38;5;28;01mdef\u001b[39;00m \u001b[38;5;21m__init__\u001b[39m(\n\u001b[1;32m     15\u001b[0m     \u001b[38;5;28mself\u001b[39m,\n\u001b[1;32m     16\u001b[0m     settings: Settings \u001b[38;5;241m=\u001b[39m Settings(),\n\u001b[1;32m     17\u001b[0m ) \u001b[38;5;241m-\u001b[39m\u001b[38;5;241m>\u001b[39m \u001b[38;5;28;01mNone\u001b[39;00m:\n\u001b[1;32m     18\u001b[0m     \u001b[38;5;28mself\u001b[39m\u001b[38;5;241m.\u001b[39m_identifier \u001b[38;5;241m=\u001b[39m SharedSystemClient\u001b[38;5;241m.\u001b[39m_get_identifier_from_settings(settings)\n\u001b[0;32m---> 19\u001b[0m     \u001b[43mSharedSystemClient\u001b[49m\u001b[38;5;241;43m.\u001b[39;49m\u001b[43m_create_system_if_not_exists\u001b[49m\u001b[43m(\u001b[49m\u001b[38;5;28;43mself\u001b[39;49m\u001b[38;5;241;43m.\u001b[39;49m\u001b[43m_identifier\u001b[49m\u001b[43m,\u001b[49m\u001b[43m \u001b[49m\u001b[43msettings\u001b[49m\u001b[43m)\u001b[49m\n",
      "File \u001b[0;32m~/Desktop/local-rag/.venv/lib/python3.11/site-packages/chromadb/api/shared_system_client.py:26\u001b[0m, in \u001b[0;36mSharedSystemClient._create_system_if_not_exists\u001b[0;34m(cls, identifier, settings)\u001b[0m\n\u001b[1;32m     21\u001b[0m \u001b[38;5;129m@classmethod\u001b[39m\n\u001b[1;32m     22\u001b[0m \u001b[38;5;28;01mdef\u001b[39;00m \u001b[38;5;21m_create_system_if_not_exists\u001b[39m(\n\u001b[1;32m     23\u001b[0m     \u001b[38;5;28mcls\u001b[39m, identifier: \u001b[38;5;28mstr\u001b[39m, settings: Settings\n\u001b[1;32m     24\u001b[0m ) \u001b[38;5;241m-\u001b[39m\u001b[38;5;241m>\u001b[39m System:\n\u001b[1;32m     25\u001b[0m     \u001b[38;5;28;01mif\u001b[39;00m identifier \u001b[38;5;129;01mnot\u001b[39;00m \u001b[38;5;129;01min\u001b[39;00m \u001b[38;5;28mcls\u001b[39m\u001b[38;5;241m.\u001b[39m_identifier_to_system:\n\u001b[0;32m---> 26\u001b[0m         new_system \u001b[38;5;241m=\u001b[39m \u001b[43mSystem\u001b[49m\u001b[43m(\u001b[49m\u001b[43msettings\u001b[49m\u001b[43m)\u001b[49m\n\u001b[1;32m     27\u001b[0m         \u001b[38;5;28mcls\u001b[39m\u001b[38;5;241m.\u001b[39m_identifier_to_system[identifier] \u001b[38;5;241m=\u001b[39m new_system\n\u001b[1;32m     29\u001b[0m         new_system\u001b[38;5;241m.\u001b[39minstance(ProductTelemetryClient)\n",
      "File \u001b[0;32m~/Desktop/local-rag/.venv/lib/python3.11/site-packages/chromadb/config.py:358\u001b[0m, in \u001b[0;36mSystem.__init__\u001b[0;34m(self, settings)\u001b[0m\n\u001b[1;32m    356\u001b[0m \u001b[38;5;66;03m# Validate settings don't contain any legacy config values\u001b[39;00m\n\u001b[1;32m    357\u001b[0m \u001b[38;5;28;01mfor\u001b[39;00m key \u001b[38;5;129;01min\u001b[39;00m _legacy_config_keys:\n\u001b[0;32m--> 358\u001b[0m     \u001b[38;5;28;01mif\u001b[39;00m \u001b[43msettings\u001b[49m\u001b[43m[\u001b[49m\u001b[43mkey\u001b[49m\u001b[43m]\u001b[49m \u001b[38;5;129;01mis\u001b[39;00m \u001b[38;5;129;01mnot\u001b[39;00m \u001b[38;5;28;01mNone\u001b[39;00m:\n\u001b[1;32m    359\u001b[0m         \u001b[38;5;28;01mraise\u001b[39;00m \u001b[38;5;167;01mValueError\u001b[39;00m(LEGACY_ERROR)\n\u001b[1;32m    361\u001b[0m \u001b[38;5;28;01mif\u001b[39;00m (\n\u001b[1;32m    362\u001b[0m     settings[\u001b[38;5;124m\"\u001b[39m\u001b[38;5;124mchroma_segment_cache_policy\u001b[39m\u001b[38;5;124m\"\u001b[39m] \u001b[38;5;129;01mis\u001b[39;00m \u001b[38;5;129;01mnot\u001b[39;00m \u001b[38;5;28;01mNone\u001b[39;00m\n\u001b[1;32m    363\u001b[0m     \u001b[38;5;129;01mand\u001b[39;00m settings[\u001b[38;5;124m\"\u001b[39m\u001b[38;5;124mchroma_segment_cache_policy\u001b[39m\u001b[38;5;124m\"\u001b[39m] \u001b[38;5;241m!=\u001b[39m \u001b[38;5;124m\"\u001b[39m\u001b[38;5;124mLRU\u001b[39m\u001b[38;5;124m\"\u001b[39m\n\u001b[1;32m    364\u001b[0m ):\n",
      "File \u001b[0;32m~/Desktop/local-rag/.venv/lib/python3.11/site-packages/chromadb/config.py:292\u001b[0m, in \u001b[0;36mSettings.__getitem__\u001b[0;34m(self, key)\u001b[0m\n\u001b[1;32m    290\u001b[0m \u001b[38;5;66;03m# Error on legacy config values\u001b[39;00m\n\u001b[1;32m    291\u001b[0m \u001b[38;5;28;01mif\u001b[39;00m \u001b[38;5;28misinstance\u001b[39m(val, \u001b[38;5;28mstr\u001b[39m) \u001b[38;5;129;01mand\u001b[39;00m val \u001b[38;5;129;01min\u001b[39;00m _legacy_config_values:\n\u001b[0;32m--> 292\u001b[0m     \u001b[38;5;28;01mraise\u001b[39;00m \u001b[38;5;167;01mValueError\u001b[39;00m(LEGACY_ERROR)\n\u001b[1;32m    293\u001b[0m \u001b[38;5;28;01mreturn\u001b[39;00m val\n",
      "\u001b[0;31mValueError\u001b[0m: \u001b[91mYou are using a deprecated configuration of Chroma.\n\n\u001b[94mIf you do not have data you wish to migrate, you only need to change how you construct\nyour Chroma client. Please see the \"New Clients\" section of https://docs.trychroma.com/deployment/migration.\n________________________________________________________________________________________________\n\nIf you do have data you wish to migrate, we have a migration tool you can use in order to\nmigrate your data to the new Chroma architecture.\nPlease `pip install chroma-migrate` and run `chroma-migrate` to migrate your data and then\nchange how you construct your Chroma client.\n\nSee https://docs.trychroma.com/deployment/migration for more information or join our discord at https://discord.gg/8g5FESbj for help!\u001b[0m"
     ]
    }
   ],
   "source": [
    "import chromadb\n",
    "from chromadb.config import Settings\n",
    "\n",
    "# ChromaDBの初期化\n",
    "client = chromadb.Client(Settings(\n",
    "    chroma_db_impl=\"duckdb+parquet\",\n",
    "    persist_directory=\"../data/chroma_db\"\n",
    "))"
   ]
  },
  {
   "cell_type": "code",
   "execution_count": null,
   "metadata": {},
   "outputs": [],
   "source": []
  },
  {
   "cell_type": "code",
   "execution_count": null,
   "metadata": {},
   "outputs": [],
   "source": []
  }
 ],
 "metadata": {
  "kernelspec": {
   "display_name": ".venv",
   "language": "python",
   "name": "python3"
  },
  "language_info": {
   "codemirror_mode": {
    "name": "ipython",
    "version": 3
   },
   "file_extension": ".py",
   "mimetype": "text/x-python",
   "name": "python",
   "nbconvert_exporter": "python",
   "pygments_lexer": "ipython3",
   "version": "3.11.8"
  }
 },
 "nbformat": 4,
 "nbformat_minor": 2
}
